{
 "cells": [
  {
   "cell_type": "code",
   "execution_count": 1,
   "id": "63d35af2",
   "metadata": {},
   "outputs": [],
   "source": [
    "import numpy as np\n",
    "import pandas as pd"
   ]
  },
  {
   "cell_type": "raw",
   "id": "17d60472",
   "metadata": {},
   "source": [
    "Q3) A program to print the following start pattern using the for loop"
   ]
  },
  {
   "cell_type": "code",
   "execution_count": 17,
   "id": "2965e2df",
   "metadata": {},
   "outputs": [
    {
     "name": "stdout",
     "output_type": "stream",
     "text": [
      "*\n",
      "**\n",
      "***\n",
      "****\n",
      "*****\n",
      "****\n",
      "***\n",
      "**\n",
      "*\n"
     ]
    }
   ],
   "source": [
    "a = \"*****\"\n",
    "for i in range(len(a)):\n",
    "    print(a[:i+1])\n",
    "for i in range(1,len(a)):\n",
    "    print(a[:-i])   \n",
    "    "
   ]
  },
  {
   "cell_type": "raw",
   "id": "950ce0d9",
   "metadata": {},
   "source": [
    "Q4) Given string contains a combination of the lower and upper case letters. Write a program to arrange the characters of a string so that all lowercase letters should come first.\n",
    "Given:\n",
    "str1 = HimaNShu"
   ]
  },
  {
   "cell_type": "code",
   "execution_count": 19,
   "id": "4711b9e9",
   "metadata": {},
   "outputs": [
    {
     "name": "stdout",
     "output_type": "stream",
     "text": [
      "imahuHNS\n"
     ]
    }
   ],
   "source": [
    "str1 = \"HimaNShu\"\n",
    "\n",
    "lowercase_str = \"\"\n",
    "uppercase_str = \"\"\n",
    "\n",
    "for char in str1:\n",
    "    if char.islower():\n",
    "        lowercase_str += char\n",
    "    else:\n",
    "        uppercase_str += char\n",
    "\n",
    "result_str = lowercase_str + uppercase_str\n",
    "\n",
    "print(result_str)"
   ]
  },
  {
   "cell_type": "raw",
   "id": "cc1ed2e3",
   "metadata": {},
   "source": [
    "Q5) A program to remove the item present at index 4 and add it to the 2nd position and at the end of the list."
   ]
  },
  {
   "cell_type": "code",
   "execution_count": 24,
   "id": "cbc6f37a",
   "metadata": {},
   "outputs": [
    {
     "name": "stdout",
     "output_type": "stream",
     "text": [
      "Original list  [34, 54, 67, 89, 11, 43, 94]\n",
      "List After removing element at index 4  [34, 54, 67, 89, 43, 94]\n",
      "List after Adding element at index 2  [34, 54, 11, 67, 89, 43, 94]\n",
      "List after Adding element at last  [34, 54, 11, 67, 89, 43, 94, 11]\n"
     ]
    }
   ],
   "source": [
    "sample_list = [34, 54, 67, 89, 11, 43, 94]\n",
    "\n",
    "print(\"Original list \", sample_list)\n",
    "element = sample_list.remove(11)\n",
    "print(\"List After removing element at index 4 \", sample_list)\n",
    "\n",
    "sample_list.insert(2,11)\n",
    "print(\"List after Adding element at index 2 \", sample_list)\n",
    "\n",
    "sample_list.append(11)\n",
    "print(\"List after Adding element at last \", sample_list)"
   ]
  },
  {
   "cell_type": "raw",
   "id": "1f6d6df8",
   "metadata": {},
   "source": [
    "Q6)Write a program demonstrate the  reverse lists in Python using slicing?"
   ]
  },
  {
   "cell_type": "code",
   "execution_count": 27,
   "id": "cf870305",
   "metadata": {},
   "outputs": [
    {
     "name": "stdout",
     "output_type": "stream",
     "text": [
      "[94, 43, 11, 89, 67, 54, 34]\n"
     ]
    }
   ],
   "source": [
    "sample_list = [34, 54, 67, 89, 11, 43, 94]\n",
    "print(sample_list[::-1])"
   ]
  },
  {
   "cell_type": "raw",
   "id": "019bf3c5",
   "metadata": {},
   "source": [
    "Q7)Place a curly bracket \"{}\" in the appropriate place and fill inside .format()'s parenthesis so that \"Hello!, Name\" is printed."
   ]
  },
  {
   "cell_type": "code",
   "execution_count": 33,
   "id": "3d19ba86",
   "metadata": {},
   "outputs": [
    {
     "name": "stdout",
     "output_type": "stream",
     "text": [
      "Please enter your name.Mugil Matheswaran\n",
      "Hello!,Mugil Matheswaran \n"
     ]
    }
   ],
   "source": [
    "name=input(\"Please enter your name.\")\n",
    "#Type your answer here.\n",
    "str=\"Hello!,{} \".format(name)\n",
    "\n",
    "print(str)"
   ]
  },
  {
   "cell_type": "raw",
   "id": "54a70023",
   "metadata": {},
   "source": [
    "Q8)Create an identical list from the first list using list comprehension.\n",
    "Code:"
   ]
  },
  {
   "cell_type": "code",
   "execution_count": 34,
   "id": "2698e296",
   "metadata": {},
   "outputs": [
    {
     "name": "stdout",
     "output_type": "stream",
     "text": [
      "[1, 2, 3, 4, 5]\n"
     ]
    }
   ],
   "source": [
    "st1=[1,2,3,4,5]\n",
    "#Type your answer here.\n",
    "lst2=st1.copy()\n",
    "print(lst2)"
   ]
  },
  {
   "cell_type": "raw",
   "id": "2086e837",
   "metadata": {},
   "source": [
    "Q9) write a program to  create a range from 100 to 160 with steps of 10 and then create a dictionary where each number in the range is the key and each item divided by 100 is the value."
   ]
  },
  {
   "cell_type": "code",
   "execution_count": 37,
   "id": "b9df121f",
   "metadata": {},
   "outputs": [
    {
     "name": "stdout",
     "output_type": "stream",
     "text": [
      "{100: 1.0, 110: 1.1, 120: 1.2, 130: 1.3, 140: 1.4, 150: 1.5, 160: 1.6}\n"
     ]
    }
   ],
   "source": [
    "rng = range(100, 170, 10)\n",
    "my_dict = {}\n",
    "\n",
    "for num in rng:\n",
    "    my_dict[num] = num/100\n",
    "\n",
    "print(my_dict)"
   ]
  },
  {
   "cell_type": "raw",
   "id": "7d10808f",
   "metadata": {},
   "source": [
    "Q12)Print \"Z\" from the nested data."
   ]
  },
  {
   "cell_type": "code",
   "execution_count": 39,
   "id": "5de2146d",
   "metadata": {},
   "outputs": [
    {
     "name": "stdout",
     "output_type": "stream",
     "text": [
      "Z\n"
     ]
    }
   ],
   "source": [
    "nested_lst = [[\"Hat\", \"Glove\", \"Goggle\"], [\"Button\", \"Zipper\", \"Hook\"]]\n",
    "ans_1=nested_lst[1][1][0]\n",
    "print(ans_1)"
   ]
  },
  {
   "cell_type": "raw",
   "id": "15577ada",
   "metadata": {},
   "source": [
    "Q13)Write a for loop which print \"Hello!, \" plus each name in the list. i.e.: \"Hello!, Sam\""
   ]
  },
  {
   "cell_type": "code",
   "execution_count": 45,
   "id": "0c89515b",
   "metadata": {},
   "outputs": [
    {
     "name": "stdout",
     "output_type": "stream",
     "text": [
      "\"Hello!, Sam \"\n",
      "\"Hello!, Lisa \"\n",
      "\"Hello!, Micha \"\n",
      "\"Hello!, Dave \"\n",
      "\"Hello!, Wyatt \"\n",
      "\"Hello!, Emma \"\n",
      "\"Hello!, Sage \"\n"
     ]
    }
   ],
   "source": [
    "lst=[\"Sam\", \"Lisa\", \"Micha\", \"Dave\", \"Wyatt\", \"Emma\", \"Sage\"]\n",
    "for i in lst:\n",
    "    print('\"Hello!,',i,'\"')"
   ]
  },
  {
   "cell_type": "raw",
   "id": "6fd61754",
   "metadata": {},
   "source": [
    "Q14)Using a for loop and .append() method append each item with a Dr. prefix to the lst."
   ]
  },
  {
   "cell_type": "code",
   "execution_count": 46,
   "id": "c2261cc0",
   "metadata": {},
   "outputs": [
    {
     "name": "stdout",
     "output_type": "stream",
     "text": [
      "['Dr. Phil', 'Dr. Oz', 'Dr. Seuss', 'Dr. Dre']\n"
     ]
    }
   ],
   "source": [
    "lst1 = [\"Phil\", \"Oz\", \"Seuss\", \"Dre\"]\n",
    "lst2 = []\n",
    "\n",
    "for name in lst1:\n",
    "    lst2.append(\"Dr. \" + name)\n",
    "\n",
    "print(lst2)"
   ]
  },
  {
   "cell_type": "raw",
   "id": "86ef0882",
   "metadata": {},
   "source": [
    "Q15)Write a function named \"count_l\" that counts the number of words that contain the letter: \"l\" in a given string"
   ]
  },
  {
   "cell_type": "code",
   "execution_count": 47,
   "id": "be71cfa3",
   "metadata": {},
   "outputs": [
    {
     "name": "stdout",
     "output_type": "stream",
     "text": [
      "4\n"
     ]
    }
   ],
   "source": [
    "str = \"Oranges and lemons, Say the bells of St. Clement's. You owe me three farthings, Say the bells of St. Martin's\"\n",
    "\n",
    "def count_l(a):\n",
    "    words = a.split()  # split the string into individual words\n",
    "    count = 0  # initialize count to zero\n",
    "    for word in words:\n",
    "        if 'l' in word.lower():  # check if the word contains the letter \"l\"\n",
    "            count += 1  # increment the count if the word contains \"l\"\n",
    "    return count\n",
    "\n",
    "print(count_l(str))\n"
   ]
  },
  {
   "cell_type": "raw",
   "id": "99c38b59",
   "metadata": {},
   "source": [
    "Q16)Place a break statement in the for loop so that it prints from 0 to 7 only (including 7)."
   ]
  },
  {
   "cell_type": "code",
   "execution_count": 50,
   "id": "4d25a745",
   "metadata": {},
   "outputs": [
    {
     "name": "stdout",
     "output_type": "stream",
     "text": [
      "0\n",
      "1\n",
      "2\n",
      "3\n",
      "4\n",
      "5\n",
      "6\n",
      "7\n"
     ]
    }
   ],
   "source": [
    "for i in range(100):\n",
    "    if i > 7:  # check if i is greater than 7\n",
    "        break  # exit the loop if i is greater than 7\n",
    "    print(i)"
   ]
  },
  {
   "cell_type": "raw",
   "id": "0c613302",
   "metadata": {},
   "source": [
    "Q17)A class regarding an imaginary jet inventory is already defined for you. Also an instant of this Jet class is created and assigned to variable first_item.\n",
    "Print the name of the first_it"
   ]
  },
  {
   "cell_type": "code",
   "execution_count": 51,
   "id": "b17eb78a",
   "metadata": {},
   "outputs": [
    {
     "name": "stdout",
     "output_type": "stream",
     "text": [
      "F16\n"
     ]
    }
   ],
   "source": [
    "class Jets:\n",
    "    def __init__(self, name, country):\n",
    "        self.name = name\n",
    "        self.origin = country\n",
    "\n",
    "first_item = Jets(\"F16\", \"USA\")\n",
    "a = first_item.name\n",
    "print(a)"
   ]
  },
  {
   "cell_type": "raw",
   "id": "61b56ec2",
   "metadata": {},
   "source": [
    "Q18)Place result=\"You can't divide with 0\" to the right place so that program avoids ZeroDivisionError."
   ]
  },
  {
   "cell_type": "code",
   "execution_count": 52,
   "id": "5c94f02d",
   "metadata": {},
   "outputs": [
    {
     "name": "stdout",
     "output_type": "stream",
     "text": [
      "You can't divide with 0\n"
     ]
    }
   ],
   "source": [
    "a = 5\n",
    "b = 0\n",
    "\n",
    "try:\n",
    "    result = a / b\n",
    "except ZeroDivisionError:\n",
    "    result = \"You can't divide with 0\"\n",
    "    print(result)\n",
    "\n"
   ]
  },
  {
   "cell_type": "raw",
   "id": "75c3b15c",
   "metadata": {},
   "source": [
    "Q20)Create a 5X2 integer array from a range between 100 to 200 such that the difference between each element is 10 and Prints its attributes."
   ]
  },
  {
   "cell_type": "code",
   "execution_count": 55,
   "id": "31682f2e",
   "metadata": {},
   "outputs": [
    {
     "name": "stdout",
     "output_type": "stream",
     "text": [
      "[100 110 120 130 140 150 160 170 180 190]\n"
     ]
    }
   ],
   "source": [
    "x=np.arange(100,200,10)\n",
    "print(x)"
   ]
  },
  {
   "cell_type": "raw",
   "id": "d98ea334",
   "metadata": {},
   "source": [
    "Q21)given a program to create  an 8X3 integer array from a range between 10 to 34 such that the difference between each element is 1 and then Split the array into four equal-sized sub-arrays."
   ]
  },
  {
   "cell_type": "code",
   "execution_count": 56,
   "id": "6bf4ce3e",
   "metadata": {},
   "outputs": [
    {
     "name": "stdout",
     "output_type": "stream",
     "text": [
      "Creating 8X3 array using numpy.arange\n",
      "[[10 11 12]\n",
      " [13 14 15]\n",
      " [16 17 18]\n",
      " [19 20 21]\n",
      " [22 23 24]\n",
      " [25 26 27]\n",
      " [28 29 30]\n",
      " [31 32 33]]\n",
      "\n",
      "Dividing 8X3 array into 4 sub array\n",
      "\n",
      "[array([[10, 11, 12],\n",
      "       [13, 14, 15]]), array([[16, 17, 18],\n",
      "       [19, 20, 21]]), array([[22, 23, 24],\n",
      "       [25, 26, 27]]), array([[28, 29, 30],\n",
      "       [31, 32, 33]])]\n"
     ]
    }
   ],
   "source": [
    "import numpy\n",
    "\n",
    "print(\"Creating 8X3 array using numpy.arange\")\n",
    "sampleArray = numpy.arange(10, 34, 1)\n",
    "sampleArray = sampleArray.reshape(8, 3)\n",
    "print(sampleArray)\n",
    "\n",
    "print(\"\\nDividing 8X3 array into 4 sub array\\n\")\n",
    "subArrays = numpy.array_split(sampleArray, 4)\n",
    "print(subArrays)\n"
   ]
  },
  {
   "cell_type": "raw",
   "id": "92fe36b7",
   "metadata": {},
   "source": [
    "Q23)Find indices of non-zero elements from [1,2,0,0,4,0] "
   ]
  },
  {
   "cell_type": "code",
   "execution_count": 65,
   "id": "d3ac18f3",
   "metadata": {},
   "outputs": [
    {
     "name": "stdout",
     "output_type": "stream",
     "text": [
      "[[0]\n",
      " [1]\n",
      " [4]]\n"
     ]
    }
   ],
   "source": [
    "y=[1,2,0,0,4,0]\n",
    "x=np.array(y)\n",
    "print(np.argwhere(x!=0))"
   ]
  },
  {
   "cell_type": "raw",
   "id": "e3faeace",
   "metadata": {},
   "source": [
    "Q25) create a NumPy array of the capital letters, A-Z"
   ]
  },
  {
   "cell_type": "code",
   "execution_count": 72,
   "id": "8faa7ff2",
   "metadata": {},
   "outputs": [
    {
     "name": "stdout",
     "output_type": "stream",
     "text": [
      "['A' 'B' 'C' 'D' 'E' 'F' 'G' 'H' 'I' 'J' 'K' 'L' 'M' 'N' 'O' 'P' 'Q' 'R'\n",
      " 'S' 'T' 'U' 'V' 'W' 'X' 'Y' 'Z']\n"
     ]
    }
   ],
   "source": [
    "x=[]\n",
    "for i in range(97,123):\n",
    "    a=chr(i).upper()\n",
    "    x.append(a)\n",
    "print(np.array(x))"
   ]
  },
  {
   "cell_type": "raw",
   "id": "22bed081",
   "metadata": {},
   "source": [
    "Q29)  write an expression  to return the last two columns of the middle two rows from the given array a=np.array([[1,2,3,4,5],[6,7,8,9,10],[11,12,13,14,15],[16,17, 18,19,20]])"
   ]
  },
  {
   "cell_type": "code",
   "execution_count": 82,
   "id": "a26d2e08",
   "metadata": {},
   "outputs": [
    {
     "name": "stdout",
     "output_type": "stream",
     "text": [
      "[[ 9 10]\n",
      " [14 15]]\n"
     ]
    }
   ],
   "source": [
    "a=np.array([[1,2,3,4,5],[6,7,8,9,10],[11,12,13,14,15],[16,17, 18,19,20]])\n",
    "print(a[1:3,3:])"
   ]
  },
  {
   "cell_type": "raw",
   "id": "c0990c9d",
   "metadata": {},
   "source": [
    "Q32)  find all the local maxima (or peaks) in a given  1D array\n",
    "Array:"
   ]
  },
  {
   "cell_type": "code",
   "execution_count": 86,
   "id": "44b5e160",
   "metadata": {},
   "outputs": [
    {
     "name": "stdout",
     "output_type": "stream",
     "text": [
      "7\n"
     ]
    }
   ],
   "source": [
    "a = np.array([1, 3, 7, 1, 2, 6, 0, 1])\n",
    "print(a.max())"
   ]
  },
  {
   "cell_type": "code",
   "execution_count": 88,
   "id": "a2c41383",
   "metadata": {},
   "outputs": [],
   "source": [
    "url='https://drive.google.com/file/d/14LQa_ri6ZSMd6ucJjK3dA5_Y9W5BtT9U/view?usp=share_link'\n",
    "data=pd.read_csv(url)"
   ]
  },
  {
   "cell_type": "code",
   "execution_count": 89,
   "id": "92644a03",
   "metadata": {},
   "outputs": [
    {
     "data": {
      "text/html": [
       "<div>\n",
       "<style scoped>\n",
       "    .dataframe tbody tr th:only-of-type {\n",
       "        vertical-align: middle;\n",
       "    }\n",
       "\n",
       "    .dataframe tbody tr th {\n",
       "        vertical-align: top;\n",
       "    }\n",
       "\n",
       "    .dataframe thead th {\n",
       "        text-align: right;\n",
       "    }\n",
       "</style>\n",
       "<table border=\"1\" class=\"dataframe\">\n",
       "  <thead>\n",
       "    <tr style=\"text-align: right;\">\n",
       "      <th></th>\n",
       "      <th>&lt;!DOCTYPE html&gt;&lt;html&gt;&lt;head&gt;&lt;meta name=\"google\" content=\"notranslate\"&gt;&lt;meta http-equiv=\"X-UA-Compatible\" content=\"IE=edge;\"&gt;&lt;style nonce=\"S-77H7xUMxbCx4u2_3Wj7w\"&gt;@font-face{font-family:'Roboto';font-style:italic;font-weight:400;src:url(//fonts.gstatic.com/s/roboto/v18/KFOkCnqEu92Fr1Mu51xIIzc.ttf)format('truetype');}@font-face{font-family:'Roboto';font-style:normal;font-weight:300;src:url(//fonts.gstatic.com/s/roboto/v18/KFOlCnqEu92Fr1MmSU5fBBc9.ttf)format('truetype');}@font-face{font-family:'Roboto';font-style:normal;font-weight:400;src:url(//fonts.gstatic.com/s/roboto/v18/KFOmCnqEu92Fr1Mu4mxP.ttf)format('truetype');}@font-face{font-family:'Roboto';font-style:normal;font-weight:500;src:url(//fonts.gstatic.com/s/roboto/v18/KFOlCnqEu92Fr1MmEU9fBBc9.ttf)format('truetype');}@font-face{font-family:'Roboto';font-style:normal;font-weight:700;src:url(//fonts.gstatic.com/s/roboto/v18/KFOlCnqEu92Fr1MmWUlfBBc9.ttf)format('truetype');}&lt;/style&gt;&lt;meta name=\"referrer\" content=\"origin\"&gt;&lt;title&gt;Automobile_data.csv - Google Drive&lt;/title&gt;&lt;meta property=\"og:title\" content=\"Automobile_data.csv\"&gt;&lt;meta property=\"og:type\" content=\"article\"&gt;&lt;meta property=\"og:site_name\" content=\"Google Docs\"&gt;&lt;meta property=\"og:url\" content=\"https://drive.google.com/file/d/14LQa_ri6ZSMd6ucJjK3dA5_Y9W5BtT9U/view?usp=share_link&amp;amp;usp=embed_facebook\"&gt;&lt;meta property=\"og:image\" content=\"https://lh6.googleusercontent.com/n5vnwpGu7o3kTbh2I-aElUXWxXXmThyU8zoREI-q5CpgQHREYXOo_1OJ-noPQRIGqP0=w1200-h630-p\"&gt;&lt;meta property=\"og:image:width\" content=\"1200\"&gt;&lt;meta property=\"og:image:height\" content=\"630\"&gt;&lt;link rel=\"shortcut icon\" href=\"https://ssl.gstatic.com/images/branding/product/1x/drive_2020q4_32dp.png\"&gt;&lt;link rel=\"stylesheet\" href=\"https://fonts.googleapis.com/css?family=Google+Sans:300</th>\n",
       "      <th>400</th>\n",
       "      <th>500</th>\n",
       "      <th>700\" nonce=\"S-77H7xUMxbCx4u2_3Wj7w\"&gt;&lt;link rel=\"stylesheet\" href=\"https://www.gstatic.com/_/apps-fileview/_/ss/k=apps-fileview.v.z3L6k94ms5s.L.X.O/am=AEA/d=0/rs=AO0039uOTw8Ymwpo5l9PTWjc6VVsmrpNTg\" nonce=\"S-77H7xUMxbCx4u2_3Wj7w\"&gt;&lt;script nonce=\"L_xk-wpG2bTuO2vWIfnNbA\"&gt;_docs_flag_initialData={\"docs-ails\":\"docs_cold\"</th>\n",
       "      <th>docs-fwds:\"docs_sdf\"</th>\n",
       "      <th>docs-crs:\"docs_crs_nfd\"</th>\n",
       "      <th>docs-fl:1</th>\n",
       "      <th>docs-l1lc:8</th>\n",
       "      <th>docs-l1lm:\"BOM\"</th>\n",
       "      <th>docs-l2lc:5</th>\n",
       "      <th>...</th>\n",
       "      <th>0.83</th>\n",
       "      <th>0.84</th>\n",
       "      <th>0.85</th>\n",
       "      <th>0.86</th>\n",
       "      <th>1].11</th>\n",
       "      <th>[[null.2</th>\n",
       "      <th>null.202</th>\n",
       "      <th>null.203</th>\n",
       "      <th>https://www.gstatic.com/og/_/js/k=og.qtm.en_US.7CmTUC1dl7E.es5.O/rt=j/m=qabr,q_dnp,qapid/exm=qaaw,qadd,qaid,qein,qhaw,qhba,qhbr,qhch,qhga,qhid,qhin,qhpr/d=1/ed=1/rs=AA2YrTtDCsxgvNhkmCP_swCt8NfowK4K5Q]]]]</th>\n",
       "      <th>};this.gbar_=this.gbar_||{};(function(_){var window=this;</th>\n",
       "    </tr>\n",
       "  </thead>\n",
       "  <tbody>\n",
       "    <tr>\n",
       "      <th>0</th>\n",
       "      <td>try{</td>\n",
       "      <td>NaN</td>\n",
       "      <td>NaN</td>\n",
       "      <td>NaN</td>\n",
       "      <td>NaN</td>\n",
       "      <td>NaN</td>\n",
       "      <td>NaN</td>\n",
       "      <td>NaN</td>\n",
       "      <td>NaN</td>\n",
       "      <td>NaN</td>\n",
       "      <td>...</td>\n",
       "      <td>NaN</td>\n",
       "      <td>NaN</td>\n",
       "      <td>NaN</td>\n",
       "      <td>NaN</td>\n",
       "      <td>NaN</td>\n",
       "      <td>NaN</td>\n",
       "      <td>NaN</td>\n",
       "      <td>NaN</td>\n",
       "      <td>NaN</td>\n",
       "      <td>NaN</td>\n",
       "    </tr>\n",
       "    <tr>\n",
       "      <th>1</th>\n",
       "      <td>/*</td>\n",
       "      <td>NaN</td>\n",
       "      <td>NaN</td>\n",
       "      <td>NaN</td>\n",
       "      <td>NaN</td>\n",
       "      <td>NaN</td>\n",
       "      <td>NaN</td>\n",
       "      <td>NaN</td>\n",
       "      <td>NaN</td>\n",
       "      <td>NaN</td>\n",
       "      <td>...</td>\n",
       "      <td>NaN</td>\n",
       "      <td>NaN</td>\n",
       "      <td>NaN</td>\n",
       "      <td>NaN</td>\n",
       "      <td>NaN</td>\n",
       "      <td>NaN</td>\n",
       "      <td>NaN</td>\n",
       "      <td>NaN</td>\n",
       "      <td>NaN</td>\n",
       "      <td>NaN</td>\n",
       "    </tr>\n",
       "    <tr>\n",
       "      <th>2</th>\n",
       "      <td>Copyright The Closure Library Authors.</td>\n",
       "      <td>NaN</td>\n",
       "      <td>NaN</td>\n",
       "      <td>NaN</td>\n",
       "      <td>NaN</td>\n",
       "      <td>NaN</td>\n",
       "      <td>NaN</td>\n",
       "      <td>NaN</td>\n",
       "      <td>NaN</td>\n",
       "      <td>NaN</td>\n",
       "      <td>...</td>\n",
       "      <td>NaN</td>\n",
       "      <td>NaN</td>\n",
       "      <td>NaN</td>\n",
       "      <td>NaN</td>\n",
       "      <td>NaN</td>\n",
       "      <td>NaN</td>\n",
       "      <td>NaN</td>\n",
       "      <td>NaN</td>\n",
       "      <td>NaN</td>\n",
       "      <td>NaN</td>\n",
       "    </tr>\n",
       "    <tr>\n",
       "      <th>3</th>\n",
       "      <td>SPDX-License-Identifier: Apache-2.0</td>\n",
       "      <td>NaN</td>\n",
       "      <td>NaN</td>\n",
       "      <td>NaN</td>\n",
       "      <td>NaN</td>\n",
       "      <td>NaN</td>\n",
       "      <td>NaN</td>\n",
       "      <td>NaN</td>\n",
       "      <td>NaN</td>\n",
       "      <td>NaN</td>\n",
       "      <td>...</td>\n",
       "      <td>NaN</td>\n",
       "      <td>NaN</td>\n",
       "      <td>NaN</td>\n",
       "      <td>NaN</td>\n",
       "      <td>NaN</td>\n",
       "      <td>NaN</td>\n",
       "      <td>NaN</td>\n",
       "      <td>NaN</td>\n",
       "      <td>NaN</td>\n",
       "      <td>NaN</td>\n",
       "    </tr>\n",
       "    <tr>\n",
       "      <th>4</th>\n",
       "      <td>*/</td>\n",
       "      <td>NaN</td>\n",
       "      <td>NaN</td>\n",
       "      <td>NaN</td>\n",
       "      <td>NaN</td>\n",
       "      <td>NaN</td>\n",
       "      <td>NaN</td>\n",
       "      <td>NaN</td>\n",
       "      <td>NaN</td>\n",
       "      <td>NaN</td>\n",
       "      <td>...</td>\n",
       "      <td>NaN</td>\n",
       "      <td>NaN</td>\n",
       "      <td>NaN</td>\n",
       "      <td>NaN</td>\n",
       "      <td>NaN</td>\n",
       "      <td>NaN</td>\n",
       "      <td>NaN</td>\n",
       "      <td>NaN</td>\n",
       "      <td>NaN</td>\n",
       "      <td>NaN</td>\n",
       "    </tr>\n",
       "    <tr>\n",
       "      <th>...</th>\n",
       "      <td>...</td>\n",
       "      <td>...</td>\n",
       "      <td>...</td>\n",
       "      <td>...</td>\n",
       "      <td>...</td>\n",
       "      <td>...</td>\n",
       "      <td>...</td>\n",
       "      <td>...</td>\n",
       "      <td>...</td>\n",
       "      <td>...</td>\n",
       "      <td>...</td>\n",
       "      <td>...</td>\n",
       "      <td>...</td>\n",
       "      <td>...</td>\n",
       "      <td>...</td>\n",
       "      <td>...</td>\n",
       "      <td>...</td>\n",
       "      <td>...</td>\n",
       "      <td>...</td>\n",
       "      <td>...</td>\n",
       "      <td>...</td>\n",
       "    </tr>\n",
       "    <tr>\n",
       "      <th>107</th>\n",
       "      <td>var Wj=function(a</td>\n",
       "      <td>b</td>\n",
       "      <td>c){_.ie.log(46</td>\n",
       "      <td>{att:a</td>\n",
       "      <td>max:b</td>\n",
       "      <td>url:c})}</td>\n",
       "      <td>Yj=function(a</td>\n",
       "      <td>b</td>\n",
       "      <td>c){_.ie.log(47</td>\n",
       "      <td>{att:a</td>\n",
       "      <td>...</td>\n",
       "      <td>NaN</td>\n",
       "      <td>NaN</td>\n",
       "      <td>NaN</td>\n",
       "      <td>NaN</td>\n",
       "      <td>NaN</td>\n",
       "      <td>NaN</td>\n",
       "      <td>NaN</td>\n",
       "      <td>NaN</td>\n",
       "      <td>NaN</td>\n",
       "      <td>NaN</td>\n",
       "    </tr>\n",
       "    <tr>\n",
       "      <th>108</th>\n",
       "      <td>}catch(e){_._DumpException(e)}</td>\n",
       "      <td>NaN</td>\n",
       "      <td>NaN</td>\n",
       "      <td>NaN</td>\n",
       "      <td>NaN</td>\n",
       "      <td>NaN</td>\n",
       "      <td>NaN</td>\n",
       "      <td>NaN</td>\n",
       "      <td>NaN</td>\n",
       "      <td>NaN</td>\n",
       "      <td>...</td>\n",
       "      <td>NaN</td>\n",
       "      <td>NaN</td>\n",
       "      <td>NaN</td>\n",
       "      <td>NaN</td>\n",
       "      <td>NaN</td>\n",
       "      <td>NaN</td>\n",
       "      <td>NaN</td>\n",
       "      <td>NaN</td>\n",
       "      <td>NaN</td>\n",
       "      <td>NaN</td>\n",
       "    </tr>\n",
       "    <tr>\n",
       "      <th>109</th>\n",
       "      <td>})(this.gbar_);</td>\n",
       "      <td>NaN</td>\n",
       "      <td>NaN</td>\n",
       "      <td>NaN</td>\n",
       "      <td>NaN</td>\n",
       "      <td>NaN</td>\n",
       "      <td>NaN</td>\n",
       "      <td>NaN</td>\n",
       "      <td>NaN</td>\n",
       "      <td>NaN</td>\n",
       "      <td>...</td>\n",
       "      <td>NaN</td>\n",
       "      <td>NaN</td>\n",
       "      <td>NaN</td>\n",
       "      <td>NaN</td>\n",
       "      <td>NaN</td>\n",
       "      <td>NaN</td>\n",
       "      <td>NaN</td>\n",
       "      <td>NaN</td>\n",
       "      <td>NaN</td>\n",
       "      <td>NaN</td>\n",
       "    </tr>\n",
       "    <tr>\n",
       "      <th>110</th>\n",
       "      <td>// Google Inc.</td>\n",
       "      <td>NaN</td>\n",
       "      <td>NaN</td>\n",
       "      <td>NaN</td>\n",
       "      <td>NaN</td>\n",
       "      <td>NaN</td>\n",
       "      <td>NaN</td>\n",
       "      <td>NaN</td>\n",
       "      <td>NaN</td>\n",
       "      <td>NaN</td>\n",
       "      <td>...</td>\n",
       "      <td>NaN</td>\n",
       "      <td>NaN</td>\n",
       "      <td>NaN</td>\n",
       "      <td>NaN</td>\n",
       "      <td>NaN</td>\n",
       "      <td>NaN</td>\n",
       "      <td>NaN</td>\n",
       "      <td>NaN</td>\n",
       "      <td>NaN</td>\n",
       "      <td>NaN</td>\n",
       "    </tr>\n",
       "    <tr>\n",
       "      <th>111</th>\n",
       "      <td>&lt;/script&gt;&lt;script id=\"base-js\" async type=\"text...</td>\n",
       "      <td>wb\" nonce=\"L_xk-wpG2bTuO2vWIfnNbA\"&gt;&lt;/script&gt;&lt;/...</td>\n",
       "      <td>NaN</td>\n",
       "      <td>NaN</td>\n",
       "      <td>NaN</td>\n",
       "      <td>NaN</td>\n",
       "      <td>NaN</td>\n",
       "      <td>NaN</td>\n",
       "      <td>NaN</td>\n",
       "      <td>NaN</td>\n",
       "      <td>...</td>\n",
       "      <td>NaN</td>\n",
       "      <td>NaN</td>\n",
       "      <td>NaN</td>\n",
       "      <td>NaN</td>\n",
       "      <td>NaN</td>\n",
       "      <td>NaN</td>\n",
       "      <td>NaN</td>\n",
       "      <td>NaN</td>\n",
       "      <td>NaN</td>\n",
       "      <td>NaN</td>\n",
       "    </tr>\n",
       "  </tbody>\n",
       "</table>\n",
       "<p>112 rows × 798 columns</p>\n",
       "</div>"
      ],
      "text/plain": [
       "    <!DOCTYPE html><html><head><meta name=\"google\" content=\"notranslate\"><meta http-equiv=\"X-UA-Compatible\" content=\"IE=edge;\"><style nonce=\"S-77H7xUMxbCx4u2_3Wj7w\">@font-face{font-family:'Roboto';font-style:italic;font-weight:400;src:url(//fonts.gstatic.com/s/roboto/v18/KFOkCnqEu92Fr1Mu51xIIzc.ttf)format('truetype');}@font-face{font-family:'Roboto';font-style:normal;font-weight:300;src:url(//fonts.gstatic.com/s/roboto/v18/KFOlCnqEu92Fr1MmSU5fBBc9.ttf)format('truetype');}@font-face{font-family:'Roboto';font-style:normal;font-weight:400;src:url(//fonts.gstatic.com/s/roboto/v18/KFOmCnqEu92Fr1Mu4mxP.ttf)format('truetype');}@font-face{font-family:'Roboto';font-style:normal;font-weight:500;src:url(//fonts.gstatic.com/s/roboto/v18/KFOlCnqEu92Fr1MmEU9fBBc9.ttf)format('truetype');}@font-face{font-family:'Roboto';font-style:normal;font-weight:700;src:url(//fonts.gstatic.com/s/roboto/v18/KFOlCnqEu92Fr1MmWUlfBBc9.ttf)format('truetype');}</style><meta name=\"referrer\" content=\"origin\"><title>Automobile_data.csv - Google Drive</title><meta property=\"og:title\" content=\"Automobile_data.csv\"><meta property=\"og:type\" content=\"article\"><meta property=\"og:site_name\" content=\"Google Docs\"><meta property=\"og:url\" content=\"https://drive.google.com/file/d/14LQa_ri6ZSMd6ucJjK3dA5_Y9W5BtT9U/view?usp=share_link&amp;usp=embed_facebook\"><meta property=\"og:image\" content=\"https://lh6.googleusercontent.com/n5vnwpGu7o3kTbh2I-aElUXWxXXmThyU8zoREI-q5CpgQHREYXOo_1OJ-noPQRIGqP0=w1200-h630-p\"><meta property=\"og:image:width\" content=\"1200\"><meta property=\"og:image:height\" content=\"630\"><link rel=\"shortcut icon\" href=\"https://ssl.gstatic.com/images/branding/product/1x/drive_2020q4_32dp.png\"><link rel=\"stylesheet\" href=\"https://fonts.googleapis.com/css?family=Google+Sans:300  \\\n",
       "0                                                 try{                                                                                                                                                                                                                                                                                                                                                                                                                                                                                                                                                                                                                                                                                                                                                                                                                                                                                                                                                                                                                                                                                                                                                                                                                                                                                                                                                                                                                                                                                                                                                                                                                                                                                                                                                                                  \n",
       "1                                                   /*                                                                                                                                                                                                                                                                                                                                                                                                                                                                                                                                                                                                                                                                                                                                                                                                                                                                                                                                                                                                                                                                                                                                                                                                                                                                                                                                                                                                                                                                                                                                                                                                                                                                                                                                                                                  \n",
       "2               Copyright The Closure Library Authors.                                                                                                                                                                                                                                                                                                                                                                                                                                                                                                                                                                                                                                                                                                                                                                                                                                                                                                                                                                                                                                                                                                                                                                                                                                                                                                                                                                                                                                                                                                                                                                                                                                                                                                                                                                                  \n",
       "3                  SPDX-License-Identifier: Apache-2.0                                                                                                                                                                                                                                                                                                                                                                                                                                                                                                                                                                                                                                                                                                                                                                                                                                                                                                                                                                                                                                                                                                                                                                                                                                                                                                                                                                                                                                                                                                                                                                                                                                                                                                                                                                                  \n",
       "4                                                   */                                                                                                                                                                                                                                                                                                                                                                                                                                                                                                                                                                                                                                                                                                                                                                                                                                                                                                                                                                                                                                                                                                                                                                                                                                                                                                                                                                                                                                                                                                                                                                                                                                                                                                                                                                                  \n",
       "..                                                 ...                                                                                                                                                                                                                                                                                                                                                                                                                                                                                                                                                                                                                                                                                                                                                                                                                                                                                                                                                                                                                                                                                                                                                                                                                                                                                                                                                                                                                                                                                                                                                                                                                                                                                                                                                                                  \n",
       "107                                  var Wj=function(a                                                                                                                                                                                                                                                                                                                                                                                                                                                                                                                                                                                                                                                                                                                                                                                                                                                                                                                                                                                                                                                                                                                                                                                                                                                                                                                                                                                                                                                                                                                                                                                                                                                                                                                                                                                  \n",
       "108                     }catch(e){_._DumpException(e)}                                                                                                                                                                                                                                                                                                                                                                                                                                                                                                                                                                                                                                                                                                                                                                                                                                                                                                                                                                                                                                                                                                                                                                                                                                                                                                                                                                                                                                                                                                                                                                                                                                                                                                                                                                                  \n",
       "109                                    })(this.gbar_);                                                                                                                                                                                                                                                                                                                                                                                                                                                                                                                                                                                                                                                                                                                                                                                                                                                                                                                                                                                                                                                                                                                                                                                                                                                                                                                                                                                                                                                                                                                                                                                                                                                                                                                                                                                  \n",
       "110                                     // Google Inc.                                                                                                                                                                                                                                                                                                                                                                                                                                                                                                                                                                                                                                                                                                                                                                                                                                                                                                                                                                                                                                                                                                                                                                                                                                                                                                                                                                                                                                                                                                                                                                                                                                                                                                                                                                                  \n",
       "111  </script><script id=\"base-js\" async type=\"text...                                                                                                                                                                                                                                                                                                                                                                                                                                                                                                                                                                                                                                                                                                                                                                                                                                                                                                                                                                                                                                                                                                                                                                                                                                                                                                                                                                                                                                                                                                                                                                                                                                                                                                                                                                                  \n",
       "\n",
       "                                                   400             500  \\\n",
       "0                                                  NaN             NaN   \n",
       "1                                                  NaN             NaN   \n",
       "2                                                  NaN             NaN   \n",
       "3                                                  NaN             NaN   \n",
       "4                                                  NaN             NaN   \n",
       "..                                                 ...             ...   \n",
       "107                                                  b  c){_.ie.log(46   \n",
       "108                                                NaN             NaN   \n",
       "109                                                NaN             NaN   \n",
       "110                                                NaN             NaN   \n",
       "111  wb\" nonce=\"L_xk-wpG2bTuO2vWIfnNbA\"></script></...             NaN   \n",
       "\n",
       "    700\" nonce=\"S-77H7xUMxbCx4u2_3Wj7w\"><link rel=\"stylesheet\" href=\"https://www.gstatic.com/_/apps-fileview/_/ss/k=apps-fileview.v.z3L6k94ms5s.L.X.O/am=AEA/d=0/rs=AO0039uOTw8Ymwpo5l9PTWjc6VVsmrpNTg\" nonce=\"S-77H7xUMxbCx4u2_3Wj7w\"><script nonce=\"L_xk-wpG2bTuO2vWIfnNbA\">_docs_flag_initialData={\"docs-ails\":\"docs_cold\"  \\\n",
       "0                                                  NaN                                                                                                                                                                                                                                                                          \n",
       "1                                                  NaN                                                                                                                                                                                                                                                                          \n",
       "2                                                  NaN                                                                                                                                                                                                                                                                          \n",
       "3                                                  NaN                                                                                                                                                                                                                                                                          \n",
       "4                                                  NaN                                                                                                                                                                                                                                                                          \n",
       "..                                                 ...                                                                                                                                                                                                                                                                          \n",
       "107                                             {att:a                                                                                                                                                                                                                                                                          \n",
       "108                                                NaN                                                                                                                                                                                                                                                                          \n",
       "109                                                NaN                                                                                                                                                                                                                                                                          \n",
       "110                                                NaN                                                                                                                                                                                                                                                                          \n",
       "111                                                NaN                                                                                                                                                                                                                                                                          \n",
       "\n",
       "    docs-fwds:\"docs_sdf\" docs-crs:\"docs_crs_nfd\"      docs-fl:1 docs-l1lc:8  \\\n",
       "0                    NaN                     NaN            NaN         NaN   \n",
       "1                    NaN                     NaN            NaN         NaN   \n",
       "2                    NaN                     NaN            NaN         NaN   \n",
       "3                    NaN                     NaN            NaN         NaN   \n",
       "4                    NaN                     NaN            NaN         NaN   \n",
       "..                   ...                     ...            ...         ...   \n",
       "107                max:b                url:c})}  Yj=function(a           b   \n",
       "108                  NaN                     NaN            NaN         NaN   \n",
       "109                  NaN                     NaN            NaN         NaN   \n",
       "110                  NaN                     NaN            NaN         NaN   \n",
       "111                  NaN                     NaN            NaN         NaN   \n",
       "\n",
       "    docs-l1lm:\"BOM\" docs-l2lc:5  ... 0.83 0.84 0.85 0.86 1].11 [[null.2  \\\n",
       "0               NaN         NaN  ...  NaN  NaN  NaN  NaN   NaN      NaN   \n",
       "1               NaN         NaN  ...  NaN  NaN  NaN  NaN   NaN      NaN   \n",
       "2               NaN         NaN  ...  NaN  NaN  NaN  NaN   NaN      NaN   \n",
       "3               NaN         NaN  ...  NaN  NaN  NaN  NaN   NaN      NaN   \n",
       "4               NaN         NaN  ...  NaN  NaN  NaN  NaN   NaN      NaN   \n",
       "..              ...         ...  ...  ...  ...  ...  ...   ...      ...   \n",
       "107  c){_.ie.log(47      {att:a  ...  NaN  NaN  NaN  NaN   NaN      NaN   \n",
       "108             NaN         NaN  ...  NaN  NaN  NaN  NaN   NaN      NaN   \n",
       "109             NaN         NaN  ...  NaN  NaN  NaN  NaN   NaN      NaN   \n",
       "110             NaN         NaN  ...  NaN  NaN  NaN  NaN   NaN      NaN   \n",
       "111             NaN         NaN  ...  NaN  NaN  NaN  NaN   NaN      NaN   \n",
       "\n",
       "    null.202 null.203  \\\n",
       "0        NaN      NaN   \n",
       "1        NaN      NaN   \n",
       "2        NaN      NaN   \n",
       "3        NaN      NaN   \n",
       "4        NaN      NaN   \n",
       "..       ...      ...   \n",
       "107      NaN      NaN   \n",
       "108      NaN      NaN   \n",
       "109      NaN      NaN   \n",
       "110      NaN      NaN   \n",
       "111      NaN      NaN   \n",
       "\n",
       "    https://www.gstatic.com/og/_/js/k=og.qtm.en_US.7CmTUC1dl7E.es5.O/rt=j/m=qabr,q_dnp,qapid/exm=qaaw,qadd,qaid,qein,qhaw,qhba,qhbr,qhch,qhga,qhid,qhin,qhpr/d=1/ed=1/rs=AA2YrTtDCsxgvNhkmCP_swCt8NfowK4K5Q]]]]  \\\n",
       "0                                                  NaN                                                                                                                                                            \n",
       "1                                                  NaN                                                                                                                                                            \n",
       "2                                                  NaN                                                                                                                                                            \n",
       "3                                                  NaN                                                                                                                                                            \n",
       "4                                                  NaN                                                                                                                                                            \n",
       "..                                                 ...                                                                                                                                                            \n",
       "107                                                NaN                                                                                                                                                            \n",
       "108                                                NaN                                                                                                                                                            \n",
       "109                                                NaN                                                                                                                                                            \n",
       "110                                                NaN                                                                                                                                                            \n",
       "111                                                NaN                                                                                                                                                            \n",
       "\n",
       "    };this.gbar_=this.gbar_||{};(function(_){var window=this;  \n",
       "0                                                  NaN         \n",
       "1                                                  NaN         \n",
       "2                                                  NaN         \n",
       "3                                                  NaN         \n",
       "4                                                  NaN         \n",
       "..                                                 ...         \n",
       "107                                                NaN         \n",
       "108                                                NaN         \n",
       "109                                                NaN         \n",
       "110                                                NaN         \n",
       "111                                                NaN         \n",
       "\n",
       "[112 rows x 798 columns]"
      ]
     },
     "execution_count": 89,
     "metadata": {},
     "output_type": "execute_result"
    }
   ],
   "source": [
    "data"
   ]
  },
  {
   "cell_type": "code",
   "execution_count": null,
   "id": "c94689e0",
   "metadata": {},
   "outputs": [],
   "source": []
  }
 ],
 "metadata": {
  "kernelspec": {
   "display_name": "Python 3 (ipykernel)",
   "language": "python",
   "name": "python3"
  },
  "language_info": {
   "codemirror_mode": {
    "name": "ipython",
    "version": 3
   },
   "file_extension": ".py",
   "mimetype": "text/x-python",
   "name": "python",
   "nbconvert_exporter": "python",
   "pygments_lexer": "ipython3",
   "version": "3.8.10"
  }
 },
 "nbformat": 4,
 "nbformat_minor": 5
}
